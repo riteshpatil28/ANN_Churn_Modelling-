{
  "nbformat": 4,
  "nbformat_minor": 0,
  "metadata": {
    "colab": {
      "provenance": []
    },
    "kernelspec": {
      "name": "python3",
      "display_name": "Python 3"
    },
    "language_info": {
      "name": "python"
    }
  },
  "cells": [
    {
      "cell_type": "code",
      "execution_count": null,
      "metadata": {
        "colab": {
          "base_uri": "https://localhost:8080/"
        },
        "id": "SCLDezRiHPlT",
        "outputId": "fb54299e-7615-41ff-8a44-2d7105b244e4"
      },
      "outputs": [
        {
          "output_type": "stream",
          "name": "stdout",
          "text": [
            "2.14.0\n"
          ]
        }
      ],
      "source": [
        "import tensorflow as tf\n",
        "print(tf.__version__)\n"
      ]
    },
    {
      "cell_type": "code",
      "source": [
        "##import some basic libararies##\n",
        "import numpy as np\n",
        "import matplotlib.pyplot as plt\n",
        "import pandas as pd"
      ],
      "metadata": {
        "id": "1zWp29qqM34P"
      },
      "execution_count": null,
      "outputs": []
    },
    {
      "cell_type": "code",
      "source": [
        "dataset=pd.read_csv('Churn_Modelling.csv')\n",
        "dataset.head"
      ],
      "metadata": {
        "colab": {
          "base_uri": "https://localhost:8080/"
        },
        "id": "7hEXpSiXNUMk",
        "outputId": "93a933b8-0e13-4d9e-bec2-7ecd79762e8a"
      },
      "execution_count": 8,
      "outputs": [
        {
          "output_type": "execute_result",
          "data": {
            "text/plain": [
              "<bound method NDFrame.head of       RowNumber  CustomerId    Surname  CreditScore Geography  Gender  Age  \\\n",
              "0             1    15634602   Hargrave          619    France  Female   42   \n",
              "1             2    15647311       Hill          608     Spain  Female   41   \n",
              "2             3    15619304       Onio          502    France  Female   42   \n",
              "3             4    15701354       Boni          699    France  Female   39   \n",
              "4             5    15737888   Mitchell          850     Spain  Female   43   \n",
              "...         ...         ...        ...          ...       ...     ...  ...   \n",
              "9995       9996    15606229   Obijiaku          771    France    Male   39   \n",
              "9996       9997    15569892  Johnstone          516    France    Male   35   \n",
              "9997       9998    15584532        Liu          709    France  Female   36   \n",
              "9998       9999    15682355  Sabbatini          772   Germany    Male   42   \n",
              "9999      10000    15628319     Walker          792    France  Female   28   \n",
              "\n",
              "      Tenure    Balance  NumOfProducts  HasCrCard  IsActiveMember  \\\n",
              "0          2       0.00              1          1               1   \n",
              "1          1   83807.86              1          0               1   \n",
              "2          8  159660.80              3          1               0   \n",
              "3          1       0.00              2          0               0   \n",
              "4          2  125510.82              1          1               1   \n",
              "...      ...        ...            ...        ...             ...   \n",
              "9995       5       0.00              2          1               0   \n",
              "9996      10   57369.61              1          1               1   \n",
              "9997       7       0.00              1          0               1   \n",
              "9998       3   75075.31              2          1               0   \n",
              "9999       4  130142.79              1          1               0   \n",
              "\n",
              "      EstimatedSalary  Exited  \n",
              "0           101348.88       1  \n",
              "1           112542.58       0  \n",
              "2           113931.57       1  \n",
              "3            93826.63       0  \n",
              "4            79084.10       0  \n",
              "...               ...     ...  \n",
              "9995         96270.64       0  \n",
              "9996        101699.77       0  \n",
              "9997         42085.58       1  \n",
              "9998         92888.52       1  \n",
              "9999         38190.78       0  \n",
              "\n",
              "[10000 rows x 14 columns]>"
            ]
          },
          "metadata": {},
          "execution_count": 8
        }
      ]
    },
    {
      "cell_type": "code",
      "source": [
        "# convert the data set into independent and dependent features#\n",
        "x=dataset.iloc[:,3:13]\n",
        "y=dataset.iloc[:,13]\n",
        "x.head()"
      ],
      "metadata": {
        "colab": {
          "base_uri": "https://localhost:8080/",
          "height": 206
        },
        "id": "wV8FW68JN8ok",
        "outputId": "8e10e498-8e7e-472d-9e5b-660a93bc32c1"
      },
      "execution_count": null,
      "outputs": [
        {
          "output_type": "execute_result",
          "data": {
            "text/plain": [
              "   CreditScore Geography  Gender  Age  Tenure    Balance  NumOfProducts  \\\n",
              "0          619    France  Female   42       2       0.00              1   \n",
              "1          608     Spain  Female   41       1   83807.86              1   \n",
              "2          502    France  Female   42       8  159660.80              3   \n",
              "3          699    France  Female   39       1       0.00              2   \n",
              "4          850     Spain  Female   43       2  125510.82              1   \n",
              "\n",
              "   HasCrCard  IsActiveMember  EstimatedSalary  \n",
              "0          1               1        101348.88  \n",
              "1          0               1        112542.58  \n",
              "2          1               0        113931.57  \n",
              "3          0               0         93826.63  \n",
              "4          1               1         79084.10  "
            ],
            "text/html": [
              "\n",
              "  <div id=\"df-688cbc70-5cf7-4eca-85b2-9737c0bb0060\" class=\"colab-df-container\">\n",
              "    <div>\n",
              "<style scoped>\n",
              "    .dataframe tbody tr th:only-of-type {\n",
              "        vertical-align: middle;\n",
              "    }\n",
              "\n",
              "    .dataframe tbody tr th {\n",
              "        vertical-align: top;\n",
              "    }\n",
              "\n",
              "    .dataframe thead th {\n",
              "        text-align: right;\n",
              "    }\n",
              "</style>\n",
              "<table border=\"1\" class=\"dataframe\">\n",
              "  <thead>\n",
              "    <tr style=\"text-align: right;\">\n",
              "      <th></th>\n",
              "      <th>CreditScore</th>\n",
              "      <th>Geography</th>\n",
              "      <th>Gender</th>\n",
              "      <th>Age</th>\n",
              "      <th>Tenure</th>\n",
              "      <th>Balance</th>\n",
              "      <th>NumOfProducts</th>\n",
              "      <th>HasCrCard</th>\n",
              "      <th>IsActiveMember</th>\n",
              "      <th>EstimatedSalary</th>\n",
              "    </tr>\n",
              "  </thead>\n",
              "  <tbody>\n",
              "    <tr>\n",
              "      <th>0</th>\n",
              "      <td>619</td>\n",
              "      <td>France</td>\n",
              "      <td>Female</td>\n",
              "      <td>42</td>\n",
              "      <td>2</td>\n",
              "      <td>0.00</td>\n",
              "      <td>1</td>\n",
              "      <td>1</td>\n",
              "      <td>1</td>\n",
              "      <td>101348.88</td>\n",
              "    </tr>\n",
              "    <tr>\n",
              "      <th>1</th>\n",
              "      <td>608</td>\n",
              "      <td>Spain</td>\n",
              "      <td>Female</td>\n",
              "      <td>41</td>\n",
              "      <td>1</td>\n",
              "      <td>83807.86</td>\n",
              "      <td>1</td>\n",
              "      <td>0</td>\n",
              "      <td>1</td>\n",
              "      <td>112542.58</td>\n",
              "    </tr>\n",
              "    <tr>\n",
              "      <th>2</th>\n",
              "      <td>502</td>\n",
              "      <td>France</td>\n",
              "      <td>Female</td>\n",
              "      <td>42</td>\n",
              "      <td>8</td>\n",
              "      <td>159660.80</td>\n",
              "      <td>3</td>\n",
              "      <td>1</td>\n",
              "      <td>0</td>\n",
              "      <td>113931.57</td>\n",
              "    </tr>\n",
              "    <tr>\n",
              "      <th>3</th>\n",
              "      <td>699</td>\n",
              "      <td>France</td>\n",
              "      <td>Female</td>\n",
              "      <td>39</td>\n",
              "      <td>1</td>\n",
              "      <td>0.00</td>\n",
              "      <td>2</td>\n",
              "      <td>0</td>\n",
              "      <td>0</td>\n",
              "      <td>93826.63</td>\n",
              "    </tr>\n",
              "    <tr>\n",
              "      <th>4</th>\n",
              "      <td>850</td>\n",
              "      <td>Spain</td>\n",
              "      <td>Female</td>\n",
              "      <td>43</td>\n",
              "      <td>2</td>\n",
              "      <td>125510.82</td>\n",
              "      <td>1</td>\n",
              "      <td>1</td>\n",
              "      <td>1</td>\n",
              "      <td>79084.10</td>\n",
              "    </tr>\n",
              "  </tbody>\n",
              "</table>\n",
              "</div>\n",
              "    <div class=\"colab-df-buttons\">\n",
              "\n",
              "  <div class=\"colab-df-container\">\n",
              "    <button class=\"colab-df-convert\" onclick=\"convertToInteractive('df-688cbc70-5cf7-4eca-85b2-9737c0bb0060')\"\n",
              "            title=\"Convert this dataframe to an interactive table.\"\n",
              "            style=\"display:none;\">\n",
              "\n",
              "  <svg xmlns=\"http://www.w3.org/2000/svg\" height=\"24px\" viewBox=\"0 -960 960 960\">\n",
              "    <path d=\"M120-120v-720h720v720H120Zm60-500h600v-160H180v160Zm220 220h160v-160H400v160Zm0 220h160v-160H400v160ZM180-400h160v-160H180v160Zm440 0h160v-160H620v160ZM180-180h160v-160H180v160Zm440 0h160v-160H620v160Z\"/>\n",
              "  </svg>\n",
              "    </button>\n",
              "\n",
              "  <style>\n",
              "    .colab-df-container {\n",
              "      display:flex;\n",
              "      gap: 12px;\n",
              "    }\n",
              "\n",
              "    .colab-df-convert {\n",
              "      background-color: #E8F0FE;\n",
              "      border: none;\n",
              "      border-radius: 50%;\n",
              "      cursor: pointer;\n",
              "      display: none;\n",
              "      fill: #1967D2;\n",
              "      height: 32px;\n",
              "      padding: 0 0 0 0;\n",
              "      width: 32px;\n",
              "    }\n",
              "\n",
              "    .colab-df-convert:hover {\n",
              "      background-color: #E2EBFA;\n",
              "      box-shadow: 0px 1px 2px rgba(60, 64, 67, 0.3), 0px 1px 3px 1px rgba(60, 64, 67, 0.15);\n",
              "      fill: #174EA6;\n",
              "    }\n",
              "\n",
              "    .colab-df-buttons div {\n",
              "      margin-bottom: 4px;\n",
              "    }\n",
              "\n",
              "    [theme=dark] .colab-df-convert {\n",
              "      background-color: #3B4455;\n",
              "      fill: #D2E3FC;\n",
              "    }\n",
              "\n",
              "    [theme=dark] .colab-df-convert:hover {\n",
              "      background-color: #434B5C;\n",
              "      box-shadow: 0px 1px 3px 1px rgba(0, 0, 0, 0.15);\n",
              "      filter: drop-shadow(0px 1px 2px rgba(0, 0, 0, 0.3));\n",
              "      fill: #FFFFFF;\n",
              "    }\n",
              "  </style>\n",
              "\n",
              "    <script>\n",
              "      const buttonEl =\n",
              "        document.querySelector('#df-688cbc70-5cf7-4eca-85b2-9737c0bb0060 button.colab-df-convert');\n",
              "      buttonEl.style.display =\n",
              "        google.colab.kernel.accessAllowed ? 'block' : 'none';\n",
              "\n",
              "      async function convertToInteractive(key) {\n",
              "        const element = document.querySelector('#df-688cbc70-5cf7-4eca-85b2-9737c0bb0060');\n",
              "        const dataTable =\n",
              "          await google.colab.kernel.invokeFunction('convertToInteractive',\n",
              "                                                    [key], {});\n",
              "        if (!dataTable) return;\n",
              "\n",
              "        const docLinkHtml = 'Like what you see? Visit the ' +\n",
              "          '<a target=\"_blank\" href=https://colab.research.google.com/notebooks/data_table.ipynb>data table notebook</a>'\n",
              "          + ' to learn more about interactive tables.';\n",
              "        element.innerHTML = '';\n",
              "        dataTable['output_type'] = 'display_data';\n",
              "        await google.colab.output.renderOutput(dataTable, element);\n",
              "        const docLink = document.createElement('div');\n",
              "        docLink.innerHTML = docLinkHtml;\n",
              "        element.appendChild(docLink);\n",
              "      }\n",
              "    </script>\n",
              "  </div>\n",
              "\n",
              "\n",
              "<div id=\"df-86625011-7406-4f59-a5fc-2a0d1cf69a01\">\n",
              "  <button class=\"colab-df-quickchart\" onclick=\"quickchart('df-86625011-7406-4f59-a5fc-2a0d1cf69a01')\"\n",
              "            title=\"Suggest charts\"\n",
              "            style=\"display:none;\">\n",
              "\n",
              "<svg xmlns=\"http://www.w3.org/2000/svg\" height=\"24px\"viewBox=\"0 0 24 24\"\n",
              "     width=\"24px\">\n",
              "    <g>\n",
              "        <path d=\"M19 3H5c-1.1 0-2 .9-2 2v14c0 1.1.9 2 2 2h14c1.1 0 2-.9 2-2V5c0-1.1-.9-2-2-2zM9 17H7v-7h2v7zm4 0h-2V7h2v10zm4 0h-2v-4h2v4z\"/>\n",
              "    </g>\n",
              "</svg>\n",
              "  </button>\n",
              "\n",
              "<style>\n",
              "  .colab-df-quickchart {\n",
              "      --bg-color: #E8F0FE;\n",
              "      --fill-color: #1967D2;\n",
              "      --hover-bg-color: #E2EBFA;\n",
              "      --hover-fill-color: #174EA6;\n",
              "      --disabled-fill-color: #AAA;\n",
              "      --disabled-bg-color: #DDD;\n",
              "  }\n",
              "\n",
              "  [theme=dark] .colab-df-quickchart {\n",
              "      --bg-color: #3B4455;\n",
              "      --fill-color: #D2E3FC;\n",
              "      --hover-bg-color: #434B5C;\n",
              "      --hover-fill-color: #FFFFFF;\n",
              "      --disabled-bg-color: #3B4455;\n",
              "      --disabled-fill-color: #666;\n",
              "  }\n",
              "\n",
              "  .colab-df-quickchart {\n",
              "    background-color: var(--bg-color);\n",
              "    border: none;\n",
              "    border-radius: 50%;\n",
              "    cursor: pointer;\n",
              "    display: none;\n",
              "    fill: var(--fill-color);\n",
              "    height: 32px;\n",
              "    padding: 0;\n",
              "    width: 32px;\n",
              "  }\n",
              "\n",
              "  .colab-df-quickchart:hover {\n",
              "    background-color: var(--hover-bg-color);\n",
              "    box-shadow: 0 1px 2px rgba(60, 64, 67, 0.3), 0 1px 3px 1px rgba(60, 64, 67, 0.15);\n",
              "    fill: var(--button-hover-fill-color);\n",
              "  }\n",
              "\n",
              "  .colab-df-quickchart-complete:disabled,\n",
              "  .colab-df-quickchart-complete:disabled:hover {\n",
              "    background-color: var(--disabled-bg-color);\n",
              "    fill: var(--disabled-fill-color);\n",
              "    box-shadow: none;\n",
              "  }\n",
              "\n",
              "  .colab-df-spinner {\n",
              "    border: 2px solid var(--fill-color);\n",
              "    border-color: transparent;\n",
              "    border-bottom-color: var(--fill-color);\n",
              "    animation:\n",
              "      spin 1s steps(1) infinite;\n",
              "  }\n",
              "\n",
              "  @keyframes spin {\n",
              "    0% {\n",
              "      border-color: transparent;\n",
              "      border-bottom-color: var(--fill-color);\n",
              "      border-left-color: var(--fill-color);\n",
              "    }\n",
              "    20% {\n",
              "      border-color: transparent;\n",
              "      border-left-color: var(--fill-color);\n",
              "      border-top-color: var(--fill-color);\n",
              "    }\n",
              "    30% {\n",
              "      border-color: transparent;\n",
              "      border-left-color: var(--fill-color);\n",
              "      border-top-color: var(--fill-color);\n",
              "      border-right-color: var(--fill-color);\n",
              "    }\n",
              "    40% {\n",
              "      border-color: transparent;\n",
              "      border-right-color: var(--fill-color);\n",
              "      border-top-color: var(--fill-color);\n",
              "    }\n",
              "    60% {\n",
              "      border-color: transparent;\n",
              "      border-right-color: var(--fill-color);\n",
              "    }\n",
              "    80% {\n",
              "      border-color: transparent;\n",
              "      border-right-color: var(--fill-color);\n",
              "      border-bottom-color: var(--fill-color);\n",
              "    }\n",
              "    90% {\n",
              "      border-color: transparent;\n",
              "      border-bottom-color: var(--fill-color);\n",
              "    }\n",
              "  }\n",
              "</style>\n",
              "\n",
              "  <script>\n",
              "    async function quickchart(key) {\n",
              "      const quickchartButtonEl =\n",
              "        document.querySelector('#' + key + ' button');\n",
              "      quickchartButtonEl.disabled = true;  // To prevent multiple clicks.\n",
              "      quickchartButtonEl.classList.add('colab-df-spinner');\n",
              "      try {\n",
              "        const charts = await google.colab.kernel.invokeFunction(\n",
              "            'suggestCharts', [key], {});\n",
              "      } catch (error) {\n",
              "        console.error('Error during call to suggestCharts:', error);\n",
              "      }\n",
              "      quickchartButtonEl.classList.remove('colab-df-spinner');\n",
              "      quickchartButtonEl.classList.add('colab-df-quickchart-complete');\n",
              "    }\n",
              "    (() => {\n",
              "      let quickchartButtonEl =\n",
              "        document.querySelector('#df-86625011-7406-4f59-a5fc-2a0d1cf69a01 button');\n",
              "      quickchartButtonEl.style.display =\n",
              "        google.colab.kernel.accessAllowed ? 'block' : 'none';\n",
              "    })();\n",
              "  </script>\n",
              "</div>\n",
              "    </div>\n",
              "  </div>\n"
            ]
          },
          "metadata": {},
          "execution_count": 103
        }
      ]
    },
    {
      "cell_type": "code",
      "source": [
        "y"
      ],
      "metadata": {
        "colab": {
          "base_uri": "https://localhost:8080/"
        },
        "id": "OL8eaJkJRIgh",
        "outputId": "75512cc4-c443-40c9-931b-b6cbbb928391"
      },
      "execution_count": null,
      "outputs": [
        {
          "output_type": "execute_result",
          "data": {
            "text/plain": [
              "0       1\n",
              "1       0\n",
              "2       1\n",
              "3       0\n",
              "4       0\n",
              "       ..\n",
              "9995    0\n",
              "9996    0\n",
              "9997    1\n",
              "9998    1\n",
              "9999    0\n",
              "Name: Exited, Length: 10000, dtype: int64"
            ]
          },
          "metadata": {},
          "execution_count": 9
        }
      ]
    },
    {
      "cell_type": "code",
      "source": [
        "#feature engineering converting geography and gender into one hot endoded#\n",
        "geography=pd.get_dummies(x['Geography'],drop_first=True)\n",
        "gender=pd.get_dummies(x['Gender'],drop_first=True)"
      ],
      "metadata": {
        "id": "WEkF_cnARcWV"
      },
      "execution_count": null,
      "outputs": []
    },
    {
      "cell_type": "code",
      "source": [
        "#concatenate the VARIABLES WITH DATAFRAME##\n",
        "x=x.drop(['Geography','Gender'],axis=1)\n",
        "x.head()"
      ],
      "metadata": {
        "colab": {
          "base_uri": "https://localhost:8080/",
          "height": 206
        },
        "id": "nkHIlu1KSmlf",
        "outputId": "54d8b610-c33a-462e-d1de-b63aa6e17c52"
      },
      "execution_count": null,
      "outputs": [
        {
          "output_type": "execute_result",
          "data": {
            "text/plain": [
              "   CreditScore  Age  Tenure    Balance  NumOfProducts  HasCrCard  \\\n",
              "0          619   42       2       0.00              1          1   \n",
              "1          608   41       1   83807.86              1          0   \n",
              "2          502   42       8  159660.80              3          1   \n",
              "3          699   39       1       0.00              2          0   \n",
              "4          850   43       2  125510.82              1          1   \n",
              "\n",
              "   IsActiveMember  EstimatedSalary  \n",
              "0               1        101348.88  \n",
              "1               1        112542.58  \n",
              "2               0        113931.57  \n",
              "3               0         93826.63  \n",
              "4               1         79084.10  "
            ],
            "text/html": [
              "\n",
              "  <div id=\"df-dd8f4f37-20be-4351-be2e-fc3017606300\" class=\"colab-df-container\">\n",
              "    <div>\n",
              "<style scoped>\n",
              "    .dataframe tbody tr th:only-of-type {\n",
              "        vertical-align: middle;\n",
              "    }\n",
              "\n",
              "    .dataframe tbody tr th {\n",
              "        vertical-align: top;\n",
              "    }\n",
              "\n",
              "    .dataframe thead th {\n",
              "        text-align: right;\n",
              "    }\n",
              "</style>\n",
              "<table border=\"1\" class=\"dataframe\">\n",
              "  <thead>\n",
              "    <tr style=\"text-align: right;\">\n",
              "      <th></th>\n",
              "      <th>CreditScore</th>\n",
              "      <th>Age</th>\n",
              "      <th>Tenure</th>\n",
              "      <th>Balance</th>\n",
              "      <th>NumOfProducts</th>\n",
              "      <th>HasCrCard</th>\n",
              "      <th>IsActiveMember</th>\n",
              "      <th>EstimatedSalary</th>\n",
              "    </tr>\n",
              "  </thead>\n",
              "  <tbody>\n",
              "    <tr>\n",
              "      <th>0</th>\n",
              "      <td>619</td>\n",
              "      <td>42</td>\n",
              "      <td>2</td>\n",
              "      <td>0.00</td>\n",
              "      <td>1</td>\n",
              "      <td>1</td>\n",
              "      <td>1</td>\n",
              "      <td>101348.88</td>\n",
              "    </tr>\n",
              "    <tr>\n",
              "      <th>1</th>\n",
              "      <td>608</td>\n",
              "      <td>41</td>\n",
              "      <td>1</td>\n",
              "      <td>83807.86</td>\n",
              "      <td>1</td>\n",
              "      <td>0</td>\n",
              "      <td>1</td>\n",
              "      <td>112542.58</td>\n",
              "    </tr>\n",
              "    <tr>\n",
              "      <th>2</th>\n",
              "      <td>502</td>\n",
              "      <td>42</td>\n",
              "      <td>8</td>\n",
              "      <td>159660.80</td>\n",
              "      <td>3</td>\n",
              "      <td>1</td>\n",
              "      <td>0</td>\n",
              "      <td>113931.57</td>\n",
              "    </tr>\n",
              "    <tr>\n",
              "      <th>3</th>\n",
              "      <td>699</td>\n",
              "      <td>39</td>\n",
              "      <td>1</td>\n",
              "      <td>0.00</td>\n",
              "      <td>2</td>\n",
              "      <td>0</td>\n",
              "      <td>0</td>\n",
              "      <td>93826.63</td>\n",
              "    </tr>\n",
              "    <tr>\n",
              "      <th>4</th>\n",
              "      <td>850</td>\n",
              "      <td>43</td>\n",
              "      <td>2</td>\n",
              "      <td>125510.82</td>\n",
              "      <td>1</td>\n",
              "      <td>1</td>\n",
              "      <td>1</td>\n",
              "      <td>79084.10</td>\n",
              "    </tr>\n",
              "  </tbody>\n",
              "</table>\n",
              "</div>\n",
              "    <div class=\"colab-df-buttons\">\n",
              "\n",
              "  <div class=\"colab-df-container\">\n",
              "    <button class=\"colab-df-convert\" onclick=\"convertToInteractive('df-dd8f4f37-20be-4351-be2e-fc3017606300')\"\n",
              "            title=\"Convert this dataframe to an interactive table.\"\n",
              "            style=\"display:none;\">\n",
              "\n",
              "  <svg xmlns=\"http://www.w3.org/2000/svg\" height=\"24px\" viewBox=\"0 -960 960 960\">\n",
              "    <path d=\"M120-120v-720h720v720H120Zm60-500h600v-160H180v160Zm220 220h160v-160H400v160Zm0 220h160v-160H400v160ZM180-400h160v-160H180v160Zm440 0h160v-160H620v160ZM180-180h160v-160H180v160Zm440 0h160v-160H620v160Z\"/>\n",
              "  </svg>\n",
              "    </button>\n",
              "\n",
              "  <style>\n",
              "    .colab-df-container {\n",
              "      display:flex;\n",
              "      gap: 12px;\n",
              "    }\n",
              "\n",
              "    .colab-df-convert {\n",
              "      background-color: #E8F0FE;\n",
              "      border: none;\n",
              "      border-radius: 50%;\n",
              "      cursor: pointer;\n",
              "      display: none;\n",
              "      fill: #1967D2;\n",
              "      height: 32px;\n",
              "      padding: 0 0 0 0;\n",
              "      width: 32px;\n",
              "    }\n",
              "\n",
              "    .colab-df-convert:hover {\n",
              "      background-color: #E2EBFA;\n",
              "      box-shadow: 0px 1px 2px rgba(60, 64, 67, 0.3), 0px 1px 3px 1px rgba(60, 64, 67, 0.15);\n",
              "      fill: #174EA6;\n",
              "    }\n",
              "\n",
              "    .colab-df-buttons div {\n",
              "      margin-bottom: 4px;\n",
              "    }\n",
              "\n",
              "    [theme=dark] .colab-df-convert {\n",
              "      background-color: #3B4455;\n",
              "      fill: #D2E3FC;\n",
              "    }\n",
              "\n",
              "    [theme=dark] .colab-df-convert:hover {\n",
              "      background-color: #434B5C;\n",
              "      box-shadow: 0px 1px 3px 1px rgba(0, 0, 0, 0.15);\n",
              "      filter: drop-shadow(0px 1px 2px rgba(0, 0, 0, 0.3));\n",
              "      fill: #FFFFFF;\n",
              "    }\n",
              "  </style>\n",
              "\n",
              "    <script>\n",
              "      const buttonEl =\n",
              "        document.querySelector('#df-dd8f4f37-20be-4351-be2e-fc3017606300 button.colab-df-convert');\n",
              "      buttonEl.style.display =\n",
              "        google.colab.kernel.accessAllowed ? 'block' : 'none';\n",
              "\n",
              "      async function convertToInteractive(key) {\n",
              "        const element = document.querySelector('#df-dd8f4f37-20be-4351-be2e-fc3017606300');\n",
              "        const dataTable =\n",
              "          await google.colab.kernel.invokeFunction('convertToInteractive',\n",
              "                                                    [key], {});\n",
              "        if (!dataTable) return;\n",
              "\n",
              "        const docLinkHtml = 'Like what you see? Visit the ' +\n",
              "          '<a target=\"_blank\" href=https://colab.research.google.com/notebooks/data_table.ipynb>data table notebook</a>'\n",
              "          + ' to learn more about interactive tables.';\n",
              "        element.innerHTML = '';\n",
              "        dataTable['output_type'] = 'display_data';\n",
              "        await google.colab.output.renderOutput(dataTable, element);\n",
              "        const docLink = document.createElement('div');\n",
              "        docLink.innerHTML = docLinkHtml;\n",
              "        element.appendChild(docLink);\n",
              "      }\n",
              "    </script>\n",
              "  </div>\n",
              "\n",
              "\n",
              "<div id=\"df-3dd140f9-54f3-4e4f-8bdb-6d50ec2698e5\">\n",
              "  <button class=\"colab-df-quickchart\" onclick=\"quickchart('df-3dd140f9-54f3-4e4f-8bdb-6d50ec2698e5')\"\n",
              "            title=\"Suggest charts\"\n",
              "            style=\"display:none;\">\n",
              "\n",
              "<svg xmlns=\"http://www.w3.org/2000/svg\" height=\"24px\"viewBox=\"0 0 24 24\"\n",
              "     width=\"24px\">\n",
              "    <g>\n",
              "        <path d=\"M19 3H5c-1.1 0-2 .9-2 2v14c0 1.1.9 2 2 2h14c1.1 0 2-.9 2-2V5c0-1.1-.9-2-2-2zM9 17H7v-7h2v7zm4 0h-2V7h2v10zm4 0h-2v-4h2v4z\"/>\n",
              "    </g>\n",
              "</svg>\n",
              "  </button>\n",
              "\n",
              "<style>\n",
              "  .colab-df-quickchart {\n",
              "      --bg-color: #E8F0FE;\n",
              "      --fill-color: #1967D2;\n",
              "      --hover-bg-color: #E2EBFA;\n",
              "      --hover-fill-color: #174EA6;\n",
              "      --disabled-fill-color: #AAA;\n",
              "      --disabled-bg-color: #DDD;\n",
              "  }\n",
              "\n",
              "  [theme=dark] .colab-df-quickchart {\n",
              "      --bg-color: #3B4455;\n",
              "      --fill-color: #D2E3FC;\n",
              "      --hover-bg-color: #434B5C;\n",
              "      --hover-fill-color: #FFFFFF;\n",
              "      --disabled-bg-color: #3B4455;\n",
              "      --disabled-fill-color: #666;\n",
              "  }\n",
              "\n",
              "  .colab-df-quickchart {\n",
              "    background-color: var(--bg-color);\n",
              "    border: none;\n",
              "    border-radius: 50%;\n",
              "    cursor: pointer;\n",
              "    display: none;\n",
              "    fill: var(--fill-color);\n",
              "    height: 32px;\n",
              "    padding: 0;\n",
              "    width: 32px;\n",
              "  }\n",
              "\n",
              "  .colab-df-quickchart:hover {\n",
              "    background-color: var(--hover-bg-color);\n",
              "    box-shadow: 0 1px 2px rgba(60, 64, 67, 0.3), 0 1px 3px 1px rgba(60, 64, 67, 0.15);\n",
              "    fill: var(--button-hover-fill-color);\n",
              "  }\n",
              "\n",
              "  .colab-df-quickchart-complete:disabled,\n",
              "  .colab-df-quickchart-complete:disabled:hover {\n",
              "    background-color: var(--disabled-bg-color);\n",
              "    fill: var(--disabled-fill-color);\n",
              "    box-shadow: none;\n",
              "  }\n",
              "\n",
              "  .colab-df-spinner {\n",
              "    border: 2px solid var(--fill-color);\n",
              "    border-color: transparent;\n",
              "    border-bottom-color: var(--fill-color);\n",
              "    animation:\n",
              "      spin 1s steps(1) infinite;\n",
              "  }\n",
              "\n",
              "  @keyframes spin {\n",
              "    0% {\n",
              "      border-color: transparent;\n",
              "      border-bottom-color: var(--fill-color);\n",
              "      border-left-color: var(--fill-color);\n",
              "    }\n",
              "    20% {\n",
              "      border-color: transparent;\n",
              "      border-left-color: var(--fill-color);\n",
              "      border-top-color: var(--fill-color);\n",
              "    }\n",
              "    30% {\n",
              "      border-color: transparent;\n",
              "      border-left-color: var(--fill-color);\n",
              "      border-top-color: var(--fill-color);\n",
              "      border-right-color: var(--fill-color);\n",
              "    }\n",
              "    40% {\n",
              "      border-color: transparent;\n",
              "      border-right-color: var(--fill-color);\n",
              "      border-top-color: var(--fill-color);\n",
              "    }\n",
              "    60% {\n",
              "      border-color: transparent;\n",
              "      border-right-color: var(--fill-color);\n",
              "    }\n",
              "    80% {\n",
              "      border-color: transparent;\n",
              "      border-right-color: var(--fill-color);\n",
              "      border-bottom-color: var(--fill-color);\n",
              "    }\n",
              "    90% {\n",
              "      border-color: transparent;\n",
              "      border-bottom-color: var(--fill-color);\n",
              "    }\n",
              "  }\n",
              "</style>\n",
              "\n",
              "  <script>\n",
              "    async function quickchart(key) {\n",
              "      const quickchartButtonEl =\n",
              "        document.querySelector('#' + key + ' button');\n",
              "      quickchartButtonEl.disabled = true;  // To prevent multiple clicks.\n",
              "      quickchartButtonEl.classList.add('colab-df-spinner');\n",
              "      try {\n",
              "        const charts = await google.colab.kernel.invokeFunction(\n",
              "            'suggestCharts', [key], {});\n",
              "      } catch (error) {\n",
              "        console.error('Error during call to suggestCharts:', error);\n",
              "      }\n",
              "      quickchartButtonEl.classList.remove('colab-df-spinner');\n",
              "      quickchartButtonEl.classList.add('colab-df-quickchart-complete');\n",
              "    }\n",
              "    (() => {\n",
              "      let quickchartButtonEl =\n",
              "        document.querySelector('#df-3dd140f9-54f3-4e4f-8bdb-6d50ec2698e5 button');\n",
              "      quickchartButtonEl.style.display =\n",
              "        google.colab.kernel.accessAllowed ? 'block' : 'none';\n",
              "    })();\n",
              "  </script>\n",
              "</div>\n",
              "    </div>\n",
              "  </div>\n"
            ]
          },
          "metadata": {},
          "execution_count": 11
        }
      ]
    },
    {
      "cell_type": "code",
      "source": [
        "x=pd.concat([x,geography,gender],axis=1)"
      ],
      "metadata": {
        "id": "tf8WFKEZZegL"
      },
      "execution_count": null,
      "outputs": []
    },
    {
      "cell_type": "code",
      "source": [
        "#splitting the dataset into traning set and test set#\n",
        "from sklearn.model_selection import train_test_split\n",
        "x_train,x_test,y_train,y_test=train_test_split(x,y,test_size=0.2,random_state=0)"
      ],
      "metadata": {
        "id": "jwcZPtn4Zycw"
      },
      "execution_count": null,
      "outputs": []
    },
    {
      "cell_type": "code",
      "source": [
        "##feature scaling ( required only for distancebased algorithms,ex.-Kmeans Knn)\n",
        "from sklearn.preprocessing import StandardScaler\n",
        "sc=StandardScaler()\n",
        "x_train=sc.fit_transform(x_train)\n",
        "x_test=sc.transform(x_test)"
      ],
      "metadata": {
        "id": "kK1WHJAqa-r-"
      },
      "execution_count": null,
      "outputs": []
    },
    {
      "cell_type": "code",
      "source": [
        "x_train\n"
      ],
      "metadata": {
        "colab": {
          "base_uri": "https://localhost:8080/"
        },
        "id": "JvtlALNqdk_V",
        "outputId": "a876a303-beb7-4e31-89f8-c3c45a8e8f45"
      },
      "execution_count": null,
      "outputs": [
        {
          "output_type": "execute_result",
          "data": {
            "text/plain": [
              "array([[ 0.16958176, -0.46460796,  0.00666099, ..., -0.5698444 ,\n",
              "         1.74309049, -1.09168714],\n",
              "       [-2.30455945,  0.30102557, -1.37744033, ...,  1.75486502,\n",
              "        -0.57369368,  0.91601335],\n",
              "       [-1.19119591, -0.94312892, -1.031415  , ..., -0.5698444 ,\n",
              "        -0.57369368, -1.09168714],\n",
              "       ...,\n",
              "       [ 0.9015152 , -0.36890377,  0.00666099, ..., -0.5698444 ,\n",
              "        -0.57369368,  0.91601335],\n",
              "       [-0.62420521, -0.08179119,  1.39076231, ..., -0.5698444 ,\n",
              "         1.74309049, -1.09168714],\n",
              "       [-0.28401079,  0.87525072, -1.37744033, ...,  1.75486502,\n",
              "        -0.57369368, -1.09168714]])"
            ]
          },
          "metadata": {},
          "execution_count": 16
        }
      ]
    },
    {
      "cell_type": "code",
      "source": [
        "x_test"
      ],
      "metadata": {
        "colab": {
          "base_uri": "https://localhost:8080/"
        },
        "id": "t9tIiHLCdp5X",
        "outputId": "5e0d7e9c-a219-4f74-8e1f-7bb91eb956df"
      },
      "execution_count": null,
      "outputs": [
        {
          "output_type": "execute_result",
          "data": {
            "text/plain": [
              "array([[-0.55204276, -0.36890377,  1.04473698, ...,  1.75486502,\n",
              "        -0.57369368, -1.09168714],\n",
              "       [-1.31490297,  0.10961719, -1.031415  , ..., -0.5698444 ,\n",
              "        -0.57369368, -1.09168714],\n",
              "       [ 0.57162971,  0.30102557,  1.04473698, ..., -0.5698444 ,\n",
              "         1.74309049, -1.09168714],\n",
              "       ...,\n",
              "       [-0.74791227, -0.27319958, -1.37744033, ..., -0.5698444 ,\n",
              "         1.74309049,  0.91601335],\n",
              "       [-0.00566991, -0.46460796, -0.33936434, ...,  1.75486502,\n",
              "        -0.57369368,  0.91601335],\n",
              "       [-0.79945688, -0.84742473,  1.04473698, ...,  1.75486502,\n",
              "        -0.57369368,  0.91601335]])"
            ]
          },
          "metadata": {},
          "execution_count": 17
        }
      ]
    },
    {
      "cell_type": "code",
      "source": [
        "x_train.shape"
      ],
      "metadata": {
        "colab": {
          "base_uri": "https://localhost:8080/"
        },
        "id": "6DjQ98nteQui",
        "outputId": "31ec72d9-23a7-445c-9e67-e248ed5190dc"
      },
      "execution_count": null,
      "outputs": [
        {
          "output_type": "execute_result",
          "data": {
            "text/plain": [
              "(8000, 11)"
            ]
          },
          "metadata": {},
          "execution_count": 18
        }
      ]
    },
    {
      "cell_type": "code",
      "source": [
        "#part 2 To create the ANN##\n",
        "from tensorflow.keras.models import Sequential\n",
        "from tensorflow.keras.layers import Dense\n",
        "from tensorflow.keras.layers import LeakyReLU, PReLU, ELU, ReLU     # Activations\n",
        "from tensorflow.keras.layers import Dropout     # used in cutting off the neuron if deactivated, basically reduce the overfittinng and work in an efficient way #\n",
        "\n",
        "# lets intialize ANN\n",
        "classifier=Sequential()\n",
        "\n",
        "# adding the input layer\n",
        "classifier.add(Dense(units=11, activation='relu'))\n",
        "\n",
        "#adding the first hidden layer\n",
        "classifier.add(Dense(units=7, activation='relu'))\n",
        "\n",
        "#adding the second hidden layer\n",
        "classifier.add(Dense(units=6,activation='relu'))\n",
        "\n",
        "## Adding the output layer\n",
        "classifier.add(Dense(1,activation='sigmoid'))  #output layer and is have the binary classification therefore the acivations function is sigmoid #\n",
        "\n"
      ],
      "metadata": {
        "id": "ESrUNoW8fqjJ"
      },
      "execution_count": null,
      "outputs": []
    },
    {
      "cell_type": "code",
      "source": [
        "import tensorflow\n",
        "opt=tensorflow.keras.optimizers.Adam(learning_rate=0.01)  #additionaly if to update the adam ##  # to specify the learning rate, replace the adam to opt in the  code"
      ],
      "metadata": {
        "id": "jKMRpUsFd5oO"
      },
      "execution_count": null,
      "outputs": []
    },
    {
      "cell_type": "code",
      "source": [
        "classifier.compile(optimizer=opt, loss='binary_crossentropy', metrics=['accuracy'])   # Adam (Adaptive Moment Estimation) works with momentums of first and second order#"
      ],
      "metadata": {
        "id": "_Cr5WGU_R42N"
      },
      "execution_count": null,
      "outputs": []
    },
    {
      "cell_type": "code",
      "source": [
        "# Early stopping ## Stop training when a monitored metric has stopped improving\n",
        "import tensorflow as tf\n",
        "early_stopping=tf.keras.callbacks.EarlyStopping(\n",
        "    monitor=\"val_loss\",\n",
        "    min_delta=0.0001,\n",
        "    patience=20,\n",
        "    verbose=1,\n",
        "    mode=\"auto\",\n",
        "    baseline=None,\n",
        "    restore_best_weights=False,\n",
        ")"
      ],
      "metadata": {
        "id": "jrOlOKgpW0MW"
      },
      "execution_count": null,
      "outputs": []
    },
    {
      "cell_type": "code",
      "source": [
        "model=classifier.fit(x_train,y_train,validation_split=0.33,batch_size=10,epochs=1000,callbacks=early_stopping)"
      ],
      "metadata": {
        "colab": {
          "base_uri": "https://localhost:8080/"
        },
        "id": "LBIrgETNUGRR",
        "outputId": "727656a6-bb71-49e2-c71c-8ac0c42bc6e7"
      },
      "execution_count": null,
      "outputs": [
        {
          "output_type": "stream",
          "name": "stdout",
          "text": [
            "Epoch 1/1000\n",
            "536/536 [==============================] - 5s 6ms/step - loss: 0.4132 - accuracy: 0.8291 - val_loss: 0.3809 - val_accuracy: 0.8406\n",
            "Epoch 2/1000\n",
            "536/536 [==============================] - 1s 3ms/step - loss: 0.3642 - accuracy: 0.8464 - val_loss: 0.3721 - val_accuracy: 0.8421\n",
            "Epoch 3/1000\n",
            "536/536 [==============================] - 1s 3ms/step - loss: 0.3549 - accuracy: 0.8518 - val_loss: 0.3726 - val_accuracy: 0.8398\n",
            "Epoch 4/1000\n",
            "536/536 [==============================] - 2s 3ms/step - loss: 0.3464 - accuracy: 0.8584 - val_loss: 0.3663 - val_accuracy: 0.8512\n",
            "Epoch 5/1000\n",
            "536/536 [==============================] - 2s 3ms/step - loss: 0.3493 - accuracy: 0.8612 - val_loss: 0.3726 - val_accuracy: 0.8444\n",
            "Epoch 6/1000\n",
            "536/536 [==============================] - 2s 3ms/step - loss: 0.3444 - accuracy: 0.8589 - val_loss: 0.3620 - val_accuracy: 0.8516\n",
            "Epoch 7/1000\n",
            "536/536 [==============================] - 2s 4ms/step - loss: 0.3435 - accuracy: 0.8558 - val_loss: 0.3581 - val_accuracy: 0.8466\n",
            "Epoch 8/1000\n",
            "536/536 [==============================] - 2s 4ms/step - loss: 0.3404 - accuracy: 0.8580 - val_loss: 0.3609 - val_accuracy: 0.8489\n",
            "Epoch 9/1000\n",
            "536/536 [==============================] - 2s 3ms/step - loss: 0.3409 - accuracy: 0.8584 - val_loss: 0.3676 - val_accuracy: 0.8501\n",
            "Epoch 10/1000\n",
            "536/536 [==============================] - 1s 3ms/step - loss: 0.3378 - accuracy: 0.8632 - val_loss: 0.3660 - val_accuracy: 0.8485\n",
            "Epoch 11/1000\n",
            "536/536 [==============================] - 2s 3ms/step - loss: 0.3369 - accuracy: 0.8623 - val_loss: 0.3639 - val_accuracy: 0.8489\n",
            "Epoch 12/1000\n",
            "536/536 [==============================] - 2s 3ms/step - loss: 0.3353 - accuracy: 0.8599 - val_loss: 0.3583 - val_accuracy: 0.8538\n",
            "Epoch 13/1000\n",
            "536/536 [==============================] - 2s 3ms/step - loss: 0.3330 - accuracy: 0.8614 - val_loss: 0.3711 - val_accuracy: 0.8519\n",
            "Epoch 14/1000\n",
            "536/536 [==============================] - 2s 3ms/step - loss: 0.3342 - accuracy: 0.8628 - val_loss: 0.3629 - val_accuracy: 0.8497\n",
            "Epoch 15/1000\n",
            "536/536 [==============================] - 2s 4ms/step - loss: 0.3318 - accuracy: 0.8612 - val_loss: 0.3713 - val_accuracy: 0.8504\n",
            "Epoch 16/1000\n",
            "536/536 [==============================] - 2s 4ms/step - loss: 0.3343 - accuracy: 0.8623 - val_loss: 0.3600 - val_accuracy: 0.8550\n",
            "Epoch 17/1000\n",
            "536/536 [==============================] - 2s 3ms/step - loss: 0.3311 - accuracy: 0.8645 - val_loss: 0.3624 - val_accuracy: 0.8576\n",
            "Epoch 18/1000\n",
            "536/536 [==============================] - 1s 3ms/step - loss: 0.3305 - accuracy: 0.8610 - val_loss: 0.3563 - val_accuracy: 0.8557\n",
            "Epoch 19/1000\n",
            "536/536 [==============================] - 1s 3ms/step - loss: 0.3297 - accuracy: 0.8625 - val_loss: 0.3604 - val_accuracy: 0.8557\n",
            "Epoch 20/1000\n",
            "536/536 [==============================] - 2s 3ms/step - loss: 0.3276 - accuracy: 0.8612 - val_loss: 0.3694 - val_accuracy: 0.8508\n",
            "Epoch 21/1000\n",
            "536/536 [==============================] - 1s 3ms/step - loss: 0.3323 - accuracy: 0.8656 - val_loss: 0.3656 - val_accuracy: 0.8516\n",
            "Epoch 22/1000\n",
            "536/536 [==============================] - 2s 3ms/step - loss: 0.3256 - accuracy: 0.8662 - val_loss: 0.3739 - val_accuracy: 0.8508\n",
            "Epoch 23/1000\n",
            "536/536 [==============================] - 2s 5ms/step - loss: 0.3275 - accuracy: 0.8642 - val_loss: 0.3697 - val_accuracy: 0.8527\n",
            "Epoch 24/1000\n",
            "536/536 [==============================] - 2s 4ms/step - loss: 0.3278 - accuracy: 0.8625 - val_loss: 0.3700 - val_accuracy: 0.8603\n",
            "Epoch 25/1000\n",
            "536/536 [==============================] - 2s 3ms/step - loss: 0.3291 - accuracy: 0.8625 - val_loss: 0.3589 - val_accuracy: 0.8523\n",
            "Epoch 26/1000\n",
            "536/536 [==============================] - 2s 3ms/step - loss: 0.3258 - accuracy: 0.8673 - val_loss: 0.3710 - val_accuracy: 0.8565\n",
            "Epoch 27/1000\n",
            "536/536 [==============================] - 1s 3ms/step - loss: 0.3269 - accuracy: 0.8664 - val_loss: 0.3669 - val_accuracy: 0.8501\n",
            "Epoch 28/1000\n",
            "536/536 [==============================] - 1s 3ms/step - loss: 0.3226 - accuracy: 0.8647 - val_loss: 0.3730 - val_accuracy: 0.8470\n",
            "Epoch 29/1000\n",
            "536/536 [==============================] - 2s 3ms/step - loss: 0.3256 - accuracy: 0.8668 - val_loss: 0.3694 - val_accuracy: 0.8535\n",
            "Epoch 30/1000\n",
            "536/536 [==============================] - 2s 3ms/step - loss: 0.3252 - accuracy: 0.8630 - val_loss: 0.3664 - val_accuracy: 0.8565\n",
            "Epoch 31/1000\n",
            "536/536 [==============================] - 2s 4ms/step - loss: 0.3214 - accuracy: 0.8647 - val_loss: 0.3705 - val_accuracy: 0.8561\n",
            "Epoch 32/1000\n",
            "536/536 [==============================] - 2s 4ms/step - loss: 0.3280 - accuracy: 0.8630 - val_loss: 0.3616 - val_accuracy: 0.8489\n",
            "Epoch 33/1000\n",
            "536/536 [==============================] - 2s 3ms/step - loss: 0.3209 - accuracy: 0.8684 - val_loss: 0.3765 - val_accuracy: 0.8554\n",
            "Epoch 34/1000\n",
            "536/536 [==============================] - 2s 3ms/step - loss: 0.3210 - accuracy: 0.8677 - val_loss: 0.3635 - val_accuracy: 0.8554\n",
            "Epoch 35/1000\n",
            "536/536 [==============================] - 1s 3ms/step - loss: 0.3256 - accuracy: 0.8656 - val_loss: 0.3757 - val_accuracy: 0.8474\n",
            "Epoch 36/1000\n",
            "536/536 [==============================] - 1s 3ms/step - loss: 0.3206 - accuracy: 0.8660 - val_loss: 0.3765 - val_accuracy: 0.8489\n",
            "Epoch 37/1000\n",
            "536/536 [==============================] - 2s 3ms/step - loss: 0.3201 - accuracy: 0.8642 - val_loss: 0.3769 - val_accuracy: 0.8523\n",
            "Epoch 38/1000\n",
            "536/536 [==============================] - 2s 3ms/step - loss: 0.3222 - accuracy: 0.8656 - val_loss: 0.3663 - val_accuracy: 0.8485\n",
            "Epoch 38: early stopping\n"
          ]
        }
      ]
    },
    {
      "cell_type": "code",
      "source": [
        "model.history.keys()"
      ],
      "metadata": {
        "colab": {
          "base_uri": "https://localhost:8080/"
        },
        "id": "K18zin45bZ_y",
        "outputId": "b9a73490-cf83-43ed-eea9-536c1aef84cf"
      },
      "execution_count": null,
      "outputs": [
        {
          "output_type": "execute_result",
          "data": {
            "text/plain": [
              "dict_keys(['loss', 'accuracy', 'val_loss', 'val_accuracy'])"
            ]
          },
          "metadata": {},
          "execution_count": 69
        }
      ]
    },
    {
      "cell_type": "code",
      "source": [
        "plt.plot(model.history['accuracy'], label='Training Accuracy')\n",
        "plt.plot(model.history['val_accuracy'], label='Validation Accuracy')\n",
        "\n",
        "# Set labels and title\n",
        "plt.xlabel('Epoch')\n",
        "plt.ylabel('Accuracy')\n",
        "plt.title('Model Accuracy')\n",
        "\n",
        "# Add a legend\n",
        "plt.legend()\n",
        "\n",
        "# Show the plot\n",
        "plt.show()"
      ],
      "metadata": {
        "colab": {
          "base_uri": "https://localhost:8080/",
          "height": 472
        },
        "id": "HIj9v33Ya02K",
        "outputId": "bb84cc9b-605f-47c3-b7c2-89d01ba9f77e"
      },
      "execution_count": null,
      "outputs": [
        {
          "output_type": "display_data",
          "data": {
            "text/plain": [
              "<Figure size 640x480 with 1 Axes>"
            ],
            "image/png": "[encoded data removed]"
          },
          "metadata": {}
        }
      ]
    },
    {
      "cell_type": "code",
      "source": [
        "plt.plot(model.history['loss'], label='Training Loss')\n",
        "plt.plot(model.history['val_loss'], label='Validation Loss')\n",
        "\n",
        "# Set labels and title\n",
        "plt.xlabel('Epoch')\n",
        "plt.ylabel('Loss')\n",
        "plt.title('Model Loss')\n",
        "\n",
        "# Add a legend\n",
        "plt.legend(loc='upper right')\n",
        "\n",
        "# Show the plot\n",
        "plt.show()"
      ],
      "metadata": {
        "colab": {
          "base_uri": "https://localhost:8080/",
          "height": 472
        },
        "id": "TpWqLa-fcImq",
        "outputId": "d153e535-87e1-4b72-f364-9a41fb714f9f"
      },
      "execution_count": null,
      "outputs": [
        {
          "output_type": "display_data",
          "data": {
            "text/plain": [
              "<Figure size 640x480 with 1 Axes>"
            ],
            "image/png": "[encoded data removed]"
          },
          "metadata": {}
        }
      ]
    },
    {
      "cell_type": "code",
      "source": [
        "#predicting the test set result\n",
        "y_predict= classifier.predict(x_test)\n",
        "y_predict=(y_predict>0.5)\n",
        "y_predict"
      ],
      "metadata": {
        "colab": {
          "base_uri": "https://localhost:8080/"
        },
        "id": "D1xLUK__gF-c",
        "outputId": "fb846d24-76b6-4da0-97ec-1ecae736a852"
      },
      "execution_count": null,
      "outputs": [
        {
          "output_type": "stream",
          "name": "stdout",
          "text": [
            "63/63 [==============================] - 0s 3ms/step\n"
          ]
        },
        {
          "output_type": "execute_result",
          "data": {
            "text/plain": [
              "array([[False],\n",
              "       [False],\n",
              "       [False],\n",
              "       ...,\n",
              "       [False],\n",
              "       [False],\n",
              "       [False]])"
            ]
          },
          "metadata": {},
          "execution_count": 90
        }
      ]
    },
    {
      "cell_type": "code",
      "source": [
        "#make the confusion metrics\n",
        "import seaborn as sns\n",
        "from sklearn.metrics import confusion_matrix\n",
        "cm=confusion_matrix(y_test,y_predict)\n",
        "sns.heatmap(cm, annot=True, fmt=\"d\", cmap=\"Reds\", xticklabels=['Not Churned', 'Churned'], yticklabels=['Not Churned', 'Churned'])\n",
        "\n",
        "# Add labels, title, and show the plot\n",
        "plt.xlabel('Predicted')\n",
        "plt.ylabel('True')\n",
        "plt.title('Confusion Matrix')\n",
        "plt.show()"
      ],
      "metadata": {
        "colab": {
          "base_uri": "https://localhost:8080/",
          "height": 563
        },
        "id": "VGi40vuigega",
        "outputId": "e6731a45-f86d-4a66-9490-c23d3217d693"
      },
      "execution_count": null,
      "outputs": [
        {
          "output_type": "stream",
          "name": "stderr",
          "text": [
            "Exception ignored in: <function _xla_gc_callback at 0x787937e9c8b0>\n",
            "Traceback (most recent call last):\n",
            "  File \"/usr/local/lib/python3.10/dist-packages/jax/_src/lib/__init__.py\", line 101, in _xla_gc_callback\n",
            "    def _xla_gc_callback(*args):\n",
            "KeyboardInterrupt: \n"
          ]
        },
        {
          "output_type": "display_data",
          "data": {
            "text/plain": [
              "<Figure size 640x480 with 2 Axes>"
            ],
            "image/png": "[encoded data removed]"
          },
          "metadata": {}
        }
      ]
    },
    {
      "cell_type": "code",
      "source": [
        "#claculate the accuracy\n",
        "from sklearn.metrics import accuracy_score\n",
        "score=accuracy_score(y_test,y_predict)\n",
        "score\n"
      ],
      "metadata": {
        "colab": {
          "base_uri": "https://localhost:8080/"
        },
        "id": "awmqQIAOg0uU",
        "outputId": "f658c366-d34b-4229-ecab-732fe859a941"
      },
      "execution_count": null,
      "outputs": [
        {
          "output_type": "execute_result",
          "data": {
            "text/plain": [
              "0.8545"
            ]
          },
          "metadata": {},
          "execution_count": 81
        }
      ]
    },
    {
      "cell_type": "code",
      "source": [
        "#to get the weights of neurons\n",
        "classifier.get_weights()"
      ],
      "metadata": {
        "colab": {
          "base_uri": "https://localhost:8080/"
        },
        "id": "LynsyHXmhLRc",
        "outputId": "05ff8ba3-631a-49f1-bd5e-0ab55a7ad535"
      },
      "execution_count": null,
      "outputs": [
        {
          "output_type": "execute_result",
          "data": {
            "text/plain": [
              "[array([[-0.03507437,  0.15822439,  1.6293018 ,  0.4005167 ,  0.02086582,\n",
              "         -0.2446322 , -1.1446326 , -0.43303996,  0.3836166 ,  0.813793  ,\n",
              "         -0.4299879 ],\n",
              "        [ 2.5954933 , -0.02267884, -0.5621866 , -2.2546158 , -0.29930657,\n",
              "          2.261365  , -1.025342  ,  3.4249065 , -3.0499768 , -1.9460791 ,\n",
              "         -0.1638222 ],\n",
              "        [-0.02943753,  0.84513146, -1.0048509 ,  0.11912114,  0.63322186,\n",
              "         -0.5773115 , -0.6681025 , -0.3547565 , -0.36118835, -0.36986998,\n",
              "         -0.3732377 ],\n",
              "        [-0.30085567,  0.03493485, -0.8604393 , -0.7343761 , -3.3601468 ,\n",
              "         -1.046893  ,  0.2135766 , -0.5414414 ,  0.9611691 , -1.0701708 ,\n",
              "         -1.5185915 ],\n",
              "        [ 4.0241985 , -2.0122623 , -0.5737639 , -0.21166845,  0.03499424,\n",
              "         -0.683783  ,  0.30919054, -2.2714977 , -0.3567699 ,  0.58694834,\n",
              "         -3.377621  ],\n",
              "        [-0.34349713,  0.26656744, -1.1230686 , -0.03952691, -0.46801525,\n",
              "         -0.14513566, -1.2256418 , -0.42634636, -1.3777837 ,  1.7649152 ,\n",
              "          0.35135296],\n",
              "        [ 0.432237  ,  3.0035815 ,  0.5405066 , -1.4583292 ,  0.57853436,\n",
              "          3.067509  ,  0.7845478 , -0.44848776, -0.12745437,  0.64591116,\n",
              "         -0.87641627],\n",
              "        [ 0.0396829 , -0.7544997 ,  1.4897939 , -1.1384047 , -1.3223042 ,\n",
              "          0.415592  , -0.62872326, -0.41140378, -0.2648812 ,  2.322123  ,\n",
              "          1.0105306 ],\n",
              "        [ 0.01097342, -0.65691984, -0.05705547, -1.9913383 , -0.7047706 ,\n",
              "          0.5605389 , -0.45770192,  0.02266948, -2.263396  ,  0.6652537 ,\n",
              "          1.7505392 ],\n",
              "        [ 0.33181512,  1.3393449 , -1.3515662 , -1.8025857 ,  0.57304174,\n",
              "         -0.5077647 , -1.402273  , -0.42636916, -0.4065507 ,  0.28197998,\n",
              "         -0.12062996],\n",
              "        [ 0.10175502,  1.0174    , -0.05175147,  1.2534642 ,  0.9308312 ,\n",
              "          0.91992974,  0.30010566,  0.2488905 , -0.6979261 ,  0.56557924,\n",
              "         -0.22970423]], dtype=float32),\n",
              " array([-0.72801185, -2.1197095 ,  0.22579853,  0.65246314, -0.03523465,\n",
              "        -2.4608397 ,  1.430783  , -0.7308937 , -0.0654833 ,  0.24309194,\n",
              "         0.57743084], dtype=float32),\n",
              " array([[-1.6082312e+00, -1.8522057e-01,  1.7746670e+00, -5.2535421e-01,\n",
              "         -3.3574399e-01, -5.8430705e+00, -2.7190915e-01],\n",
              "        [-3.5123544e+00,  1.3338152e+00, -2.6729116e+00, -9.4892579e-01,\n",
              "         -2.0663054e+00, -3.9817467e-01, -2.5086300e-03],\n",
              "        [ 6.8294215e-01,  7.7629101e-01, -2.1151944e-01,  5.6288022e-01,\n",
              "         -2.3105035e+00,  6.8287957e-01, -1.9295509e-01],\n",
              "        [-3.7746625e+00,  1.1791329e+00,  6.8851018e-01, -4.0669296e-02,\n",
              "         -1.1426727e+00, -4.7900012e-01, -4.5627162e-01],\n",
              "        [ 1.0236430e+00,  7.3341715e-01, -7.8358752e-01,  1.0993657e+00,\n",
              "         -3.4653431e-01,  1.3340133e+00, -3.4337303e-01],\n",
              "        [-1.6744779e+00, -2.1150978e+00, -2.6445472e+00,  7.9098374e-01,\n",
              "         -7.9382583e-03, -6.2519568e-01, -6.5598089e-01],\n",
              "        [ 6.3285214e-01,  1.1298287e+00, -7.1649447e-02, -4.6844804e-01,\n",
              "          1.3524809e+00, -2.6801148e-01, -4.0476540e-01],\n",
              "        [ 1.2011900e+00, -1.4851286e+00,  8.1678264e-02,  5.7796395e-01,\n",
              "         -1.1178805e+00,  9.6829182e-01, -4.9293411e-01],\n",
              "        [-2.1864591e+00, -8.4059095e-01,  1.7801620e-01, -1.3619969e-03,\n",
              "         -1.3987842e+00, -1.2282426e+00, -2.0061196e-01],\n",
              "        [-3.7973425e+00, -7.2331883e-02,  7.0623559e-01,  1.9484314e+00,\n",
              "          5.7465267e-01, -8.4664226e-01, -1.4612241e-01],\n",
              "        [-7.4209583e-01, -2.5995988e-01, -1.0348150e+00, -3.2854571e+00,\n",
              "         -3.8368684e-01,  1.0160086e+00, -6.6341293e-01]], dtype=float32),\n",
              " array([-1.1701474 ,  2.4345455 , -2.7040255 , -0.5798467 , -0.18402718,\n",
              "         0.5068252 , -0.4045599 ], dtype=float32),\n",
              " array([[ 0.6923618 ,  0.99814147, -0.21431403, -0.3198846 ,  1.6651973 ,\n",
              "         -0.21104924],\n",
              "        [ 0.5649407 , -0.13610047, -0.08170851, -0.86998546, -1.105013  ,\n",
              "         -0.22904001],\n",
              "        [-0.77352256, -2.3090663 , -0.2690632 ,  0.23194166,  1.5258659 ,\n",
              "         -0.46359882],\n",
              "        [ 0.6136716 ,  0.44851896, -0.24590984, -0.05475419, -0.36527455,\n",
              "         -0.14733426],\n",
              "        [ 0.9287516 ,  1.3317297 , -0.31816468,  0.36123776,  1.318583  ,\n",
              "         -0.01520364],\n",
              "        [-1.010691  , -2.007703  , -0.02539291, -0.136497  ,  0.53721386,\n",
              "         -0.7833881 ],\n",
              "        [-0.24901913, -0.17091474, -0.4500705 , -0.44441587,  0.43212986,\n",
              "         -0.25788113]], dtype=float32),\n",
              " array([ 0.3760162 , -0.8649259 , -0.48919883, -2.5149581 , -1.1225334 ,\n",
              "        -0.17153317], dtype=float32),\n",
              " array([[-0.2883088 ],\n",
              "        [-0.16061601],\n",
              "        [-0.07002391],\n",
              "        [ 0.25266433],\n",
              "        [ 0.26364967],\n",
              "        [ 0.03755182]], dtype=float32),\n",
              " array([-0.9950006], dtype=float32)]"
            ]
          },
          "metadata": {},
          "execution_count": 101
        }
      ]
    },
    {
      "cell_type": "code",
      "source": [
        "classifier.save('ANN_churn_modelling.h5')"
      ],
      "metadata": {
        "id": "kmRKrNa5iut8"
      },
      "execution_count": null,
      "outputs": []
    }
  ]
}